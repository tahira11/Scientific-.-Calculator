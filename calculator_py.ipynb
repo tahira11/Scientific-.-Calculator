{
  "nbformat": 4,
  "nbformat_minor": 0,
  "metadata": {
    "colab": {
      "provenance": [],
      "authorship_tag": "ABX9TyMcKKAT7jPAPQD2HPXmfmT0",
      "include_colab_link": true
    },
    "kernelspec": {
      "name": "python3",
      "display_name": "Python 3"
    },
    "language_info": {
      "name": "python"
    }
  },
  "cells": [
    {
      "cell_type": "markdown",
      "metadata": {
        "id": "view-in-github",
        "colab_type": "text"
      },
      "source": [
        "<a href=\"https://colab.research.google.com/github/tahira11/Scientific-.-Calculator/blob/main/calculator_py.ipynb\" target=\"_parent\"><img src=\"https://colab.research.google.com/assets/colab-badge.svg\" alt=\"Open In Colab\"/></a>"
      ]
    },
    {
      "cell_type": "code",
      "execution_count": null,
      "metadata": {
        "id": "qWHBKyZ3qHl9"
      },
      "outputs": [],
      "source": [
        "import streamlit as st\n",
        "import math\n",
        "\n",
        "# Set up the title for the calculator\n",
        "st.title(\"Scientific Calculator\")\n",
        "\n",
        "# Display input fields\n",
        "st.write(\"Enter your values below:\")\n",
        "\n",
        "# Input fields for the calculator\n",
        "num1 = st.number_input(\"Enter first number:\", value=0.0)\n",
        "operation = st.selectbox(\"Select operation:\", [\"Add\", \"Subtract\", \"Multiply\", \"Divide\", \"Square Root\", \"Power\", \"Sin\", \"Cos\", \"Tan\", \"Log\"])\n",
        "num2 = None\n",
        "\n",
        "# Conditionally render a second input field if the operation requires two numbers\n",
        "if operation not in [\"Square Root\", \"Sin\", \"Cos\", \"Tan\", \"Log\"]:\n",
        "    num2 = st.number_input(\"Enter second number (if applicable):\", value=0.0)\n",
        "\n",
        "# Calculate the result based on the operation selected\n",
        "result = None\n",
        "\n",
        "if st.button(\"Calculate\"):\n",
        "    if operation == \"Add\":\n",
        "        result = num1 + num2\n",
        "    elif operation == \"Subtract\":\n",
        "        result = num1 - num2\n",
        "    elif operation == \"Multiply\":\n",
        "        result = num1 * num2\n",
        "    elif operation == \"Divide\":\n",
        "        if num2 == 0:\n",
        "            result = \"Error! Division by zero.\"\n",
        "        else:\n",
        "            result = num1 / num2\n",
        "    elif operation == \"Square Root\":\n",
        "        result = math.sqrt(num1)\n",
        "    elif operation == \"Power\":\n",
        "        result = math.pow(num1, num2)\n",
        "    elif operation == \"Sin\":\n",
        "        result = math.sin(math.radians(num1))  # Convert to radians\n",
        "    elif operation == \"Cos\":\n",
        "        result = math.cos(math.radians(num1))  # Convert to radians\n",
        "    elif operation == \"Tan\":\n",
        "        result = math.tan(math.radians(num1))  # Convert to radians\n",
        "    elif operation == \"Log\":\n",
        "        if num1 > 0:\n",
        "            result = math.log(num1)\n",
        "        else:\n",
        "            result = \"Error! Logarithm only defined for positive numbers.\"\n",
        "\n",
        "    # Display the result\n",
        "    st.write(f\"Result: {result}\")\n"
      ]
    }
  ]
}